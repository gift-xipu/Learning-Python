{
 "cells": [
  {
   "cell_type": "markdown",
   "id": "fc7cc227-2a63-434e-984a-741501db29f0",
   "metadata": {},
   "source": [
    "# Marvel VS DC Comics: A comparison using descriptive statistics\n",
    "\n",
    "For decades, fans have debated which is the superior franchise between Marvel and DC Comics. This exploratory data analysis moves beyond subjective opinions to examine what the data actually reveals. *What do the stats say?*. Using descriptive statistics, we'll analyze key metrics to provide an objective comparison between these two comic book giants."
   ]
  },
  {
   "cell_type": "markdown",
   "id": "0655f689-bd07-4fe7-bf61-7082d32a817c",
   "metadata": {},
   "source": [
    "<div style=\"background-color: #a7ebce; padding: 20px; border-radius: 10px;\">\n",
    "<h3>Libraries Used for this</h3>\n",
    "<ul>\n",
    "<li><b>pandas</b></li>\n",
    "<li><b>NumPy</b></li>\n",
    "<li><b>Matplotlib</b> and <b>Seaborn</b></li>\n",
    "</ul>\n",
    "</div>"
   ]
  },
  {
   "cell_type": "code",
   "execution_count": null,
   "id": "a03c1ea2-b7e4-4a77-8110-efb73ed75c4f",
   "metadata": {},
   "outputs": [],
   "source": []
  }
 ],
 "metadata": {
  "kernelspec": {
   "display_name": "Python 3 (ipykernel)",
   "language": "python",
   "name": "python3"
  },
  "language_info": {
   "codemirror_mode": {
    "name": "ipython",
    "version": 3
   },
   "file_extension": ".py",
   "mimetype": "text/x-python",
   "name": "python",
   "nbconvert_exporter": "python",
   "pygments_lexer": "ipython3",
   "version": "3.13.2"
  }
 },
 "nbformat": 4,
 "nbformat_minor": 5
}
